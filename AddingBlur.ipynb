{
 "cells": [
  {
   "cell_type": "code",
   "execution_count": 15,
   "metadata": {},
   "outputs": [],
   "source": [
    "import PIL\n",
    "from PIL import Image,ImageFilter\n",
    "import operator"
   ]
  },
  {
   "cell_type": "code",
   "execution_count": 25,
   "metadata": {},
   "outputs": [],
   "source": [
    "def box_Blur(file,r=100):\n",
    "    img=Image.open(file).convert('RGB')\n",
    "    new_img=img.copy()\n",
    "    width,height=img.size\n",
    "    area=(2*r+1)**2 #area of the kernel\n",
    "    for x in range(r,width-r):\n",
    "        for y in range(r,height-r):\n",
    "            sum_pixels=(0,0,0)\n",
    "            for pixel in [(i,j) for j in range(y-r,y+r+1) for i in range(x-r,x+r+1)]:\n",
    "                sum_pixels=tuple(map(operator.add,sum_pixels,img.getpixel(pixel)))\n",
    "            new_img.putpixel((x,y),tuple(map(operator.floordiv,sum_pixels,(area,area,area))))\n",
    "    return img"
   ]
  },
  {
   "cell_type": "code",
   "execution_count": 26,
   "metadata": {},
   "outputs": [
    {
     "ename": "KeyboardInterrupt",
     "evalue": "",
     "output_type": "error",
     "traceback": [
      "\u001b[1;31m---------------------------------------------------------------------------\u001b[0m",
      "\u001b[1;31mKeyboardInterrupt\u001b[0m                         Traceback (most recent call last)",
      "Cell \u001b[1;32mIn[26], line 5\u001b[0m\n\u001b[0;32m      3\u001b[0m img1\u001b[38;5;241m=\u001b[39mImage\u001b[38;5;241m.\u001b[39mopen(file)\n\u001b[0;32m      4\u001b[0m img1\u001b[38;5;241m.\u001b[39mshow()\n\u001b[1;32m----> 5\u001b[0m img\u001b[38;5;241m=\u001b[39m\u001b[43mbox_Blur\u001b[49m\u001b[43m(\u001b[49m\u001b[43mfile\u001b[49m\u001b[43m)\u001b[49m\n\u001b[0;32m      6\u001b[0m img\u001b[38;5;241m.\u001b[39mshow()\n",
      "Cell \u001b[1;32mIn[25], line 10\u001b[0m, in \u001b[0;36mbox_Blur\u001b[1;34m(file, r)\u001b[0m\n\u001b[0;32m      8\u001b[0m         sum_pixels\u001b[38;5;241m=\u001b[39m(\u001b[38;5;241m0\u001b[39m,\u001b[38;5;241m0\u001b[39m,\u001b[38;5;241m0\u001b[39m)\n\u001b[0;32m      9\u001b[0m         \u001b[38;5;28;01mfor\u001b[39;00m pixel \u001b[38;5;129;01min\u001b[39;00m [(i,j) \u001b[38;5;28;01mfor\u001b[39;00m j \u001b[38;5;129;01min\u001b[39;00m \u001b[38;5;28mrange\u001b[39m(y\u001b[38;5;241m-\u001b[39mr,y\u001b[38;5;241m+\u001b[39mr\u001b[38;5;241m+\u001b[39m\u001b[38;5;241m1\u001b[39m) \u001b[38;5;28;01mfor\u001b[39;00m i \u001b[38;5;129;01min\u001b[39;00m \u001b[38;5;28mrange\u001b[39m(x\u001b[38;5;241m-\u001b[39mr,x\u001b[38;5;241m+\u001b[39mr\u001b[38;5;241m+\u001b[39m\u001b[38;5;241m1\u001b[39m)]:\n\u001b[1;32m---> 10\u001b[0m             sum_pixels\u001b[38;5;241m=\u001b[39m\u001b[38;5;28mtuple\u001b[39m(\u001b[38;5;28mmap\u001b[39m(operator\u001b[38;5;241m.\u001b[39madd,sum_pixels,\u001b[43mimg\u001b[49m\u001b[38;5;241;43m.\u001b[39;49m\u001b[43mgetpixel\u001b[49m\u001b[43m(\u001b[49m\u001b[43mpixel\u001b[49m\u001b[43m)\u001b[49m))\n\u001b[0;32m     11\u001b[0m         new_img\u001b[38;5;241m.\u001b[39mputpixel((x,y),\u001b[38;5;28mtuple\u001b[39m(\u001b[38;5;28mmap\u001b[39m(operator\u001b[38;5;241m.\u001b[39mfloordiv,sum_pixels,(area,area,area))))\n\u001b[0;32m     12\u001b[0m \u001b[38;5;28;01mreturn\u001b[39;00m img\n",
      "File \u001b[1;32m~\\AppData\\Local\\Packages\\PythonSoftwareFoundation.Python.3.11_qbz5n2kfra8p0\\LocalCache\\local-packages\\Python311\\site-packages\\PIL\\Image.py:1612\u001b[0m, in \u001b[0;36mImage.getpixel\u001b[1;34m(self, xy)\u001b[0m\n\u001b[0;32m   1610\u001b[0m \u001b[38;5;28;01mif\u001b[39;00m \u001b[38;5;28mself\u001b[39m\u001b[38;5;241m.\u001b[39mpyaccess:\n\u001b[0;32m   1611\u001b[0m     \u001b[38;5;28;01mreturn\u001b[39;00m \u001b[38;5;28mself\u001b[39m\u001b[38;5;241m.\u001b[39mpyaccess\u001b[38;5;241m.\u001b[39mgetpixel(xy)\n\u001b[1;32m-> 1612\u001b[0m \u001b[38;5;28;01mreturn\u001b[39;00m \u001b[38;5;28mself\u001b[39m\u001b[38;5;241m.\u001b[39mim\u001b[38;5;241m.\u001b[39mgetpixel(\u001b[38;5;28mtuple\u001b[39m(xy))\n",
      "\u001b[1;31mKeyboardInterrupt\u001b[0m: "
     ]
    }
   ],
   "source": [
    "if __name__ == \"__main__\":\n",
    "    file=\"D05_img_telegram_0139.jpg\"\n",
    "    img1=Image.open(file)\n",
    "    img1.show()\n",
    "    img=box_Blur(file)\n",
    "    img.show()"
   ]
  },
  {
   "cell_type": "code",
   "execution_count": null,
   "metadata": {},
   "outputs": [],
   "source": [
    "from PIL import Image\n",
    "\n",
    "def box_blur_simple(file, r=1):\n",
    "  img = Image.open(file).convert('RGB')\n",
    "  new_img = img.copy()\n",
    "  width, height = img.size\n",
    "  \n",
    "  for x in range(r, width - r):\n",
    "    for y in range(r, height - r):\n",
    "      # Initialize sum variables for each color channel (Red, Green, Blue)\n",
    "      sum_red = 0\n",
    "      sum_green = 0\n",
    "      sum_blue = 0\n",
    "      # Iterate through surrounding pixels within blur radius\n",
    "      for dx in range(-r, r + 1):\n",
    "        for dy in range(-r, r + 1):\n",
    "          # Consider pixels within image boundaries\n",
    "          if 0 <= x + dx < width and 0 <= y + dy < height:\n",
    "            pixel = img.getpixel((x + dx, y + dy))\n",
    "            sum_red += pixel[0]\n",
    "            sum_green += pixel[1]\n",
    "            sum_blue += pixel[2]\n",
    "      # Calculate average for each color channel\n",
    "      avg_red = sum_red // ((2 * r + 1) ** 2)\n",
    "      avg_green = sum_green // ((2 * r + 1) ** 2)\n",
    "      avg_blue = sum_blue // ((2 * r + 1) ** 2)\n",
    "      # Set the averaged pixel value in the new image\n",
    "      new_img.putpixel((x, y), (avg_red, avg_green, avg_blue))\n",
    "  \n",
    "  return new_img\n"
   ]
  }
 ],
 "metadata": {
  "kernelspec": {
   "display_name": "Python 3",
   "language": "python",
   "name": "python3"
  },
  "language_info": {
   "codemirror_mode": {
    "name": "ipython",
    "version": 3
   },
   "file_extension": ".py",
   "mimetype": "text/x-python",
   "name": "python",
   "nbconvert_exporter": "python",
   "pygments_lexer": "ipython3",
   "version": "3.11.9"
  }
 },
 "nbformat": 4,
 "nbformat_minor": 2
}
