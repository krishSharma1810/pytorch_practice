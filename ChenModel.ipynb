{
 "cells": [
  {
   "cell_type": "code",
   "execution_count": null,
   "metadata": {},
   "outputs": [],
   "source": [
    "import torch \n",
    "from torch import nn"
   ]
  },
  {
   "cell_type": "code",
   "execution_count": null,
   "metadata": {},
   "outputs": [],
   "source": [
    "# class ConvolutionBlock(nn.Module):\n",
    "#     def __init__(self,in_channel,out_channel,kernel_size,stride,padding):\n",
    "#         super().__init__()\n",
    "#         self.ConvoLayer_X1=nn.Conv2d(in_channel,out_channel,kernel_size,stride,padding)\n",
    "#         self.Relu_Layer=nn.ReLU()\n",
    "#         self.ConvoLayer_X2=nn.Conv2d(in_channel,out_channel,kernel_size,stride,padding)\n",
    "\n",
    "#     def forward(self,x):\n",
    "#         return self.ConvoLayer_X2(self.Relu_Layer(self.ConvoLayer_X1(x)))"
   ]
  },
  {
   "cell_type": "code",
   "execution_count": null,
   "metadata": {},
   "outputs": [],
   "source": [
    "# class ModelDefine(nn.Module):\n",
    "#     def __init__(self,in_channel,out_channel):\n",
    "#         super().__init__()\n",
    "\n",
    "#         # if first:\n",
    "#         self.layer_1=nn.Conv2d(in_channel,out_channel,7,2,1)\n",
    "#         self.Relu_layer=nn.ReLU()\n",
    "\n",
    "#         self.conv_layer=ConvolutionBlock(in_channel,out_channel,3,1,0)\n",
    "\n",
    "\n",
    "#     def forward(self,x):\n",
    "#         # if self.first:\n",
    "#         h=self.Relu_layer(x)\n",
    "#         h=nn.ReLU(torch.add(x,h))\n",
    "\n",
    "#         return h\n"
   ]
  },
  {
   "cell_type": "code",
   "execution_count": null,
   "metadata": {},
   "outputs": [],
   "source": [
    "# class DriverClass(nn.Module):\n",
    "#     def __init__(self):\n",
    "#         super().__init__()\n",
    "#         out_features=[ 64,128,256,512 ]\n",
    "#         classes=[ 13,27,74,19 ]\n",
    "#         self.Block=nn.ModuleList([ModelDefine(3,64)])\n",
    "\n",
    "#         for i in range(len(out_features)):\n",
    "#             if i>0:\n",
    "#                 self.Block.append(ModelDefine(out_features[i-1],out_features[i]))\n",
    "#             for _ in range(2):\n",
    "#                 self.Block.append(ModelDefine(out_features[i],out_features[i]))\n",
    "\n",
    "#         self.avg_pool=nn.AvgPool2d(kernel_size=3)\n",
    "#         self.Full_connect_13=nn.Linear(512,13)\n",
    "\n",
    "#     def forward(self,x):\n",
    "#         # for block in self.Block:\n",
    "#         #     x=block(x)\n",
    "\n",
    "#         x=self.avg_pool(x)\n",
    "#         x=torch.flatten(x)\n",
    "#         x=self.Full_connect_13(x)\n",
    "\n",
    "#         return x\n"
   ]
  },
  {
   "cell_type": "code",
   "execution_count": null,
   "metadata": {},
   "outputs": [],
   "source": [
    "# if __name__ == \"__main__\":\n",
    "#     resnet=DriverClass()\n",
    "#     # data\n",
    "#     x=torch.rand(3,256,256)\n",
    "#     print(resnet(x).shape)"
   ]
  },
  {
   "cell_type": "code",
   "execution_count": 2,
   "metadata": {},
   "outputs": [],
   "source": [
    "import torch \n",
    "from torch import nn"
   ]
  },
  {
   "cell_type": "code",
   "execution_count": 3,
   "metadata": {},
   "outputs": [],
   "source": [
    "class Model(nn.Module):\n",
    "    def __init__(self):\n",
    "        super().__init__()\n",
    "        \n",
    "        self.Block1_X=nn.Conv2d(in_channels=3,out_channels=64,kernel_size=7,stride=2,padding=1)\n",
    "\n",
    "        self.Block2_X=nn.Conv2d(in_channels=64,out_channels=64,kernel_size=3,stride=1,padding=0)\n",
    "\n",
    "        self.Block3_1=nn.Conv2d(in_channels=64,out_channels=128,kernel_size=3,stride=1,padding=0)\n",
    "        self.Block3_X=nn.Conv2d(in_channels=128,out_channels=128,kernel_size=3,stride=1,padding=0)\n",
    "\n",
    "        self.Block4_1=nn.Conv2d(in_channels=128,out_channels=256,kernel_size=3,stride=1,padding=0)\n",
    "        self.Block4_X=nn.Conv2d(in_channels=256,out_channels=256,kernel_size=3,stride=1,padding=0)\n",
    "\n",
    "        self.Block5_1=nn.Conv2d(in_channels=256,out_channels=512,kernel_size=3,stride=1,padding=0)\n",
    "        self.Block5_X=nn.Conv2d(in_channels=512,out_channels=512,kernel_size=3,stride=1,padding=0)\n",
    "\n",
    "        self.Pool=nn.AvgPool2d()\n",
    "\n",
    "        self.relu=nn.ReLU()\n",
    "        self.softmax=nn.Softmax()\n",
    "\n",
    "\n",
    "    def forward(self,x):\n",
    "        h=self.relu(self.Block1_X(x))\n",
    "\n",
    "        f=self.relu(self.Block2_X(h))\n",
    "        f=self.relu(self.Block2_X(f))\n",
    "        f=self.Block2_X(h)\n",
    "\n",
    "        h=self.relu(torch.add(f,h))\n",
    "\n",
    "        f=self.relu(self.Block3_1(h))\n",
    "        f=self.relu(self.Block3_X(f))\n",
    "        f=self.Block3_X(f)\n",
    "\n",
    "        h=self.relu(torch.add(f,h))\n",
    "\n",
    "        f=self.relu(self.Block4_1(h))\n",
    "        f=self.relu(self.Block4_X(f))\n",
    "        f=self.Block4_X(f)\n",
    "\n",
    "        h=self.relu(torch.add(f,h))     \n",
    "\n",
    "        f=self.relu(self.Block5_1(h))\n",
    "        f=self.relu(self.Block5_X(f))   \n",
    "        f=self.Block5_X(f)  \n",
    "\n",
    "        h=self.relu(torch.add(f,h)) \n",
    "\n",
    "        h=self.Pool(h)\n",
    "        h=self.softmax(h)\n",
    "\n",
    "        return h\n",
    "\n"
   ]
  },
  {
   "cell_type": "code",
   "execution_count": 9,
   "metadata": {},
   "outputs": [
    {
     "name": "stdout",
     "output_type": "stream",
     "text": [
      "tensor([[[0.4323, 0.9754, 0.6256,  ..., 0.6632, 0.7486, 0.5478],\n",
      "         [0.5001, 0.3215, 0.7933,  ..., 0.7517, 0.1129, 0.2329],\n",
      "         [0.6535, 0.0695, 0.7420,  ..., 0.1212, 0.3411, 0.9734],\n",
      "         ...,\n",
      "         [0.8215, 0.2943, 0.6386,  ..., 0.7747, 0.0717, 0.9727],\n",
      "         [0.2282, 0.7427, 0.6061,  ..., 0.9084, 0.9354, 0.1614],\n",
      "         [0.9193, 0.5769, 0.2880,  ..., 0.4112, 0.0499, 0.1998]],\n",
      "\n",
      "        [[0.2489, 0.8037, 0.6498,  ..., 0.1855, 0.6184, 0.1492],\n",
      "         [0.3651, 0.6977, 0.7475,  ..., 0.0053, 0.4121, 0.1327],\n",
      "         [0.4532, 0.4507, 0.7447,  ..., 0.9161, 0.3713, 0.2343],\n",
      "         ...,\n",
      "         [0.3685, 0.7169, 0.7485,  ..., 0.7906, 0.3653, 0.0980],\n",
      "         [0.7817, 0.2708, 0.4452,  ..., 0.9033, 0.9845, 0.1786],\n",
      "         [0.0345, 0.0575, 0.4841,  ..., 0.0445, 0.8213, 0.9517]],\n",
      "\n",
      "        [[0.7886, 0.1502, 0.7044,  ..., 0.5534, 0.6337, 0.5261],\n",
      "         [0.2312, 0.1509, 0.4266,  ..., 0.9402, 0.2678, 0.9004],\n",
      "         [0.7707, 0.7670, 0.4431,  ..., 0.4936, 0.9720, 0.2111],\n",
      "         ...,\n",
      "         [0.0568, 0.8453, 0.0614,  ..., 0.5171, 0.6847, 0.2187],\n",
      "         [0.7669, 0.2686, 0.0365,  ..., 0.4132, 0.7091, 0.8553],\n",
      "         [0.8857, 0.4134, 0.1830,  ..., 0.6957, 0.5252, 0.2467]]])\n"
     ]
    },
    {
     "ename": "TypeError",
     "evalue": "Model.__init__() takes 1 positional argument but 2 were given",
     "output_type": "error",
     "traceback": [
      "\u001b[1;31m---------------------------------------------------------------------------\u001b[0m",
      "\u001b[1;31mTypeError\u001b[0m                                 Traceback (most recent call last)",
      "Cell \u001b[1;32mIn[9], line 4\u001b[0m\n\u001b[0;32m      2\u001b[0m image \u001b[38;5;241m=\u001b[39m torch\u001b[38;5;241m.\u001b[39mrand( \u001b[38;5;241m3\u001b[39m, \u001b[38;5;241m224\u001b[39m, \u001b[38;5;241m224\u001b[39m)\n\u001b[0;32m      3\u001b[0m \u001b[38;5;28mprint\u001b[39m(image)\n\u001b[1;32m----> 4\u001b[0m x\u001b[38;5;241m=\u001b[39m\u001b[43mModel\u001b[49m\u001b[43m(\u001b[49m\u001b[43mimage\u001b[49m\u001b[43m)\u001b[49m\n",
      "\u001b[1;31mTypeError\u001b[0m: Model.__init__() takes 1 positional argument but 2 were given"
     ]
    }
   ],
   "source": [
    "if __name__ == \"__main__\":\n",
    "    image = torch.rand( 1,3, 224, 224)\n",
    "    print(image)\n",
    "    x=Model(image)"
   ]
  },
  {
   "cell_type": "code",
   "execution_count": null,
   "metadata": {},
   "outputs": [],
   "source": []
  }
 ],
 "metadata": {
  "kernelspec": {
   "display_name": "Python 3",
   "language": "python",
   "name": "python3"
  },
  "language_info": {
   "codemirror_mode": {
    "name": "ipython",
    "version": 3
   },
   "file_extension": ".py",
   "mimetype": "text/x-python",
   "name": "python",
   "nbconvert_exporter": "python",
   "pygments_lexer": "ipython3",
   "version": "3.11.9"
  }
 },
 "nbformat": 4,
 "nbformat_minor": 2
}
