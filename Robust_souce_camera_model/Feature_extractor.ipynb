{
 "cells": [
  {
   "cell_type": "code",
   "execution_count": 1,
   "metadata": {},
   "outputs": [],
   "source": [
    "import torch\n",
    "import torch.nn as nn"
   ]
  },
  {
   "cell_type": "code",
   "execution_count": 3,
   "metadata": {},
   "outputs": [],
   "source": [
    "class ResNet18FeatureExtractor(nn.Module):\n",
    "    def __init__(self):\n",
    "        super(ResNet18FeatureExtractor, self).__init__()\n",
    "        resnet50 = torchvision.models.resnet50(pretrained=True)\n",
    "        # Freeze the weights of the pre-trained model\n",
    "        for param in resnet18.parameters():\n",
    "            param.requires_grad = False\n",
    "        # Use layers up to avgpool layer (exclusive)\n",
    "        self.features = nn.Sequential(*list(resnet50.children())[:-2])\n",
    "\n",
    "    def forward(self, x):\n",
    "        # Pass the image through the feature extraction layers\n",
    "        x = self.features(x)\n",
    "        return x\n"
   ]
  }
 ],
 "metadata": {
  "kernelspec": {
   "display_name": "Python 3",
   "language": "python",
   "name": "python3"
  },
  "language_info": {
   "codemirror_mode": {
    "name": "ipython",
    "version": 3
   },
   "file_extension": ".py",
   "mimetype": "text/x-python",
   "name": "python",
   "nbconvert_exporter": "python",
   "pygments_lexer": "ipython3",
   "version": "3.11.9"
  }
 },
 "nbformat": 4,
 "nbformat_minor": 2
}
