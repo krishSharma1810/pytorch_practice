{
 "cells": [
  {
   "cell_type": "code",
   "execution_count": 1,
   "metadata": {},
   "outputs": [],
   "source": [
    "import torch\n",
    "import torch.nn as nn\n",
    "import torchvision\n",
    "import torch.optim as optim\n",
    "from torch.optim.lr_scheduler import ExponentialLR"
   ]
  },
  {
   "cell_type": "markdown",
   "metadata": {},
   "source": [
    "Encoder and decoder\n"
   ]
  },
  {
   "cell_type": "code",
   "execution_count": 3,
   "metadata": {},
   "outputs": [],
   "source": [
    "class PDN(nn.Module):\n",
    "  def __init__(self):\n",
    "    super(PDN, self).__init__()\n",
    "\n",
    "    # Encoder layers\n",
    "    self.encoder = nn.Sequential(\n",
    "        nn.Conv2d(3, 32, kernel_size=3, stride=1, padding=1),  # Input channels: 3 (RGB), output: 32 channels\n",
    "        nn.BatchNorm2d(32),\n",
    "        nn.ReLU(inplace=True),\n",
    "        # nn.MaxPool2d(2, 2),\n",
    "\n",
    "        nn.Conv2d(32, 64, kernel_size=3, stride=1, padding=1),\n",
    "        nn.BatchNorm2d(64),\n",
    "        nn.ReLU(inplace=True),\n",
    "        nn.MaxPool2d(2, 2),\n",
    "\n",
    "        nn.Conv2d(64, 128, kernel_size=3, stride=1, padding=1),\n",
    "        nn.BatchNorm2d(128),\n",
    "        nn.ReLU(inplace=True),\n",
    "        nn.MaxPool2d(2, 2),\n",
    "\n",
    "        nn.Conv2d(128, 256, kernel_size=3, stride=1, padding=1),\n",
    "        nn.BatchNorm2d(256),\n",
    "        nn.ReLU(inplace=True),\n",
    "        nn.MaxPool2d(2, 2),\n",
    "    )\n",
    "\n",
    "    # Decoder layers (use transposed convolutions for upsampling)\n",
    "    self.decoder = nn.Sequential(\n",
    "        nn.ConvTranspose2d(256, 128, kernel_size=4, stride=2, padding=1),\n",
    "        nn.BatchNorm2d(128),\n",
    "        nn.ReLU(inplace=True),\n",
    "\n",
    "        nn.ConvTranspose2d(128, 64, kernel_size=4, stride=2, padding=1),\n",
    "        nn.BatchNorm2d(64),\n",
    "        nn.ReLU(inplace=True),\n",
    "\n",
    "        nn.ConvTranspose2d(64, 32, kernel_size=4, stride=2, padding=1),\n",
    "        nn.BatchNorm2d(32),\n",
    "        nn.ReLU(inplace=True),\n",
    "\n",
    "        nn.ConvTranspose2d(32, 3, kernel_size=4, stride=2, padding=1),\n",
    "        nn.Sigmoid()  # Output layer between 0 and 1 for image reconstruction\n",
    "    )\n",
    "\n",
    "  def forward(self, x):\n",
    "    encoded = self.encoder(x)\n",
    "    decoded = self.decoder(encoded)\n",
    "    return decoded\n"
   ]
  },
  {
   "cell_type": "code",
   "execution_count": null,
   "metadata": {},
   "outputs": [],
   "source": [
    "\n",
    "# # Example usage\n",
    "# model = PDN()\n",
    "# input_image = torch.randn(1, 3, 256, 256)  # Sample input image with batch size 1\n",
    "# output = model(input_image)\n",
    "# print(output.shape)  # Output: torch.Size([1, 3, 256, 256])\n"
   ]
  },
  {
   "cell_type": "code",
   "execution_count": null,
   "metadata": {},
   "outputs": [],
   "source": [
    "model = PDN()\n",
    "\n",
    "optimizer = optim.Adam(model.parameters(), lr=0.001)\n",
    "\n",
    "# Define learning rate scheduler with exponential decay\n",
    "scheduler = ExponentialLR(optimizer, gamma=0.97)\n",
    "\n",
    "# Training loop (example)\n",
    "for epoch in range(20):  # Train feature extractor for 20 epochs\n",
    "  # ... training code for feature extractor\n",
    "  scheduler.step()  # Update learning rate after each epoch\n",
    "\n",
    "# Adjust parameters for PDN training (potentially modify learning rate again)\n",
    "# ... modify model parameters or optimizer settings (e.g., new learning rate)\n",
    "\n",
    "for epoch in range(10):  # Train PDN for 10 epochs\n",
    "  # ... training code for PDN\n",
    "  scheduler.step()  # Continue learning rate decay\n"
   ]
  },
  {
   "cell_type": "markdown",
   "metadata": {},
   "source": [
    "Feature Extractor ResnNet model"
   ]
  },
  {
   "cell_type": "code",
   "execution_count": 3,
   "metadata": {},
   "outputs": [],
   "source": [
    "class ResNet18FeatureExtractor(nn.Module):\n",
    "    def __init__(self):\n",
    "        super(ResNet18FeatureExtractor, self).__init__()\n",
    "        resnet50 = torchvision.models.resnet50(pretrained=True)\n",
    "        # Freeze the weights of the pre-trained model\n",
    "        for param in resnet18.parameters():\n",
    "            param.requires_grad = False\n",
    "        # Use layers up to avgpool layer (exclusive)\n",
    "        self.features = nn.Sequential(*list(resnet50.children())[:-2])\n",
    "\n",
    "    def forward(self, x):\n",
    "        # Pass the image through the feature extraction layers\n",
    "        x = self.features(x)\n",
    "        return x\n"
   ]
  }
 ],
 "metadata": {
  "kernelspec": {
   "display_name": "Python 3",
   "language": "python",
   "name": "python3"
  },
  "language_info": {
   "codemirror_mode": {
    "name": "ipython",
    "version": 3
   },
   "file_extension": ".py",
   "mimetype": "text/x-python",
   "name": "python",
   "nbconvert_exporter": "python",
   "pygments_lexer": "ipython3",
   "version": "3.11.9"
  }
 },
 "nbformat": 4,
 "nbformat_minor": 2
}
