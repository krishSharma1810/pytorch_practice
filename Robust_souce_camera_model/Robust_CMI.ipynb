{
 "cells": [
  {
   "cell_type": "code",
   "execution_count": 1,
   "metadata": {},
   "outputs": [
    {
     "name": "stderr",
     "output_type": "stream",
     "text": [
      "C:\\Users\\ASUS\\AppData\\Local\\Packages\\PythonSoftwareFoundation.Python.3.11_qbz5n2kfra8p0\\LocalCache\\local-packages\\Python311\\site-packages\\tqdm\\auto.py:21: TqdmWarning: IProgress not found. Please update jupyter and ipywidgets. See https://ipywidgets.readthedocs.io/en/stable/user_install.html\n",
      "  from .autonotebook import tqdm as notebook_tqdm\n"
     ]
    },
    {
     "name": "stdout",
     "output_type": "stream",
     "text": [
      "helper_functions.py already exists, skipping download\n",
      "Using device: cpu\n"
     ]
    }
   ],
   "source": [
    "from torch.utils.data import DataLoader, Dataset\n",
    "import torchvision.transforms as transforms\n",
    "import numpy as np\n",
    "import matplotlib.pyplot as plt\n",
    "import torch.nn as nn\n",
    "import torch.optim as optim\n",
    "from torch.optim.lr_scheduler import ExponentialLR\n",
    "from tqdm.auto import tqdm\n",
    "import torch\n",
    "from timeit import default_timer as timer\n",
    "import requests\n",
    "from pathlib import Path\n",
    "import os\n",
    "from PIL import Image\n",
    "import torchvision.models as models\n",
    "\n",
    "if Path(\"helper_functions.py\").is_file():\n",
    "    print(\"helper_functions.py already exists, skipping download\")\n",
    "else:\n",
    "    print(\"Downloading helper_functions.py\")\n",
    "    request = requests.get(\"https://raw.githubusercontent.com/mrdbourke/pytorch-deep-learning/main/helper_functions.py\")\n",
    "    with open(\"helper_functions.py\", \"wb\") as f:\n",
    "        f.write(request.content)\n",
    "from helper_functions import accuracy_fn\n",
    "\n",
    "# Set device\n",
    "device = \"cuda\" if torch.cuda.is_available() else \"cpu\"\n",
    "print(f\"Using device: {device}\")"
   ]
  },
  {
   "cell_type": "code",
   "execution_count": 2,
   "metadata": {},
   "outputs": [],
   "source": [
    "def load_images_with_labels(data_dir, batch_size, transform=None):\n",
    "    \"\"\"Loads images from a folder into a DataLoader with image names as labels.\n",
    "\n",
    "    Args:\n",
    "        data_dir (str): Path to the data directory.\n",
    "        batch_size (int): Batch size for the DataLoader.\n",
    "        transform (torchvision.transforms.Compose, optional): Data transformations. Defaults to None.\n",
    "\n",
    "    Returns:\n",
    "        torch.utils.data.DataLoader: A DataLoader instance.\n",
    "    \"\"\"\n",
    "\n",
    "    if transform is None:\n",
    "        transform = transforms.Compose([\n",
    "            transforms.Resize((224, 224)),\n",
    "            transforms.ToTensor()\n",
    "        ])\n",
    "\n",
    "    image_paths = []\n",
    "    for root, _, files in os.walk(data_dir):\n",
    "        for file in files:\n",
    "            if file.endswith('.jpg') or file.endswith('.jpeg') or file.endswith('.png'):\n",
    "                image_path = os.path.join(root, file)\n",
    "                image_paths.append(image_path)\n",
    "\n",
    "    class ImageDataset(Dataset):\n",
    "        def __init__(self, image_paths, transform=None):\n",
    "            self.image_paths = image_paths\n",
    "            self.transform = transform\n",
    "\n",
    "        def __getitem__(self, index):\n",
    "            image_path = self.image_paths[index]\n",
    "            image = Image.open(image_path).convert(\"RGB\")\n",
    "            if self.transform:\n",
    "                image = self.transform(image)\n",
    "            return image, image_path.split('/')[-1]  # Use filename as label\n",
    "\n",
    "        def __len__(self):\n",
    "            return len(self.image_paths)\n",
    "\n",
    "    dataset = ImageDataset(image_paths, transform=transform)\n",
    "    dataloader = DataLoader(dataset, batch_size=batch_size, shuffle=True)\n",
    "\n",
    "    return dataloader\n"
   ]
  },
  {
   "cell_type": "code",
   "execution_count": 3,
   "metadata": {},
   "outputs": [
    {
     "name": "stdout",
     "output_type": "stream",
     "text": [
      "Loaded 10 images.\n"
     ]
    }
   ],
   "source": [
    "# Load images\n",
    "path = 'D:\\\\image_folder\\\\Images'\n",
    "image_list = load_images_with_labels(path, batch_size=1)\n",
    "print(f\"Loaded {len(image_list)} images.\")\n"
   ]
  },
  {
   "cell_type": "code",
   "execution_count": 4,
   "metadata": {},
   "outputs": [],
   "source": [
    "def extract_labels_from_dataloader(dataloader):\n",
    "    \"\"\"Extracts labels from a DataLoader and creates a list of labels.\n",
    "\n",
    "    Args:\n",
    "        dataloader (torch.utils.data.DataLoader): The DataLoader containing data and labels.\n",
    "\n",
    "    Returns:\n",
    "        list: A list of labels extracted from the DataLoader.\n",
    "    \"\"\"\n",
    "\n",
    "    labels = []\n",
    "    for _, label in dataloader:\n",
    "        labels.append(label)\n",
    "    return labels\n"
   ]
  },
  {
   "cell_type": "code",
   "execution_count": 5,
   "metadata": {},
   "outputs": [],
   "source": [
    "labels_list = extract_labels_from_dataloader(image_list)\n"
   ]
  },
  {
   "cell_type": "code",
   "execution_count": 7,
   "metadata": {},
   "outputs": [],
   "source": [
    "def extract_patches_from_dataloader(dataloader, patch_size):\n",
    "    \"\"\"Extracts patches from images in a DataLoader.\n",
    "\n",
    "    Args:\n",
    "        dataloader (torch.utils.data.DataLoader): DataLoader containing images.\n",
    "        patch_size (int): Size of the patches.\n",
    "\n",
    "    Returns:\n",
    "        list: A list of image patches.\n",
    "    \"\"\"\n",
    "\n",
    "    all_patches = []\n",
    "    for images, labels in dataloader:\n",
    "        for image in images:\n",
    "            _, h, w = image.shape\n",
    "            for i in range(0, h, patch_size):\n",
    "                for j in range(0, w, patch_size):\n",
    "                    patch = image[:, i:i+patch_size, j:j+patch_size]\n",
    "                    if patch.shape[1] == patch_size and patch.shape[2] == patch_size:  # Ensure patch size is consistent\n",
    "                        all_patches.append(patch)\n",
    "    return all_patches\n"
   ]
  },
  {
   "cell_type": "code",
   "execution_count": 8,
   "metadata": {},
   "outputs": [
    {
     "name": "stdout",
     "output_type": "stream",
     "text": [
      "Extracted 490 patches.\n"
     ]
    }
   ],
   "source": [
    "patch_list = extract_patches_from_dataloader(image_list, patch_size=32)\n",
    "print(f\"Extracted {len(patch_list)} patches.\")\n"
   ]
  },
  {
   "cell_type": "code",
   "execution_count": 9,
   "metadata": {},
   "outputs": [],
   "source": [
    "def create_patch_dataloader_with_labels(patches, labels, batch_size=49):\n",
    "    \"\"\"Creates a DataLoader for image patches with corresponding labels.\n",
    "\n",
    "    Args:\n",
    "        patches (list): List of image patches.\n",
    "        labels (list): List of labels, where each label corresponds to 49 patches.\n",
    "        batch_size (int): Batch size (default: 49 patches).\n",
    "\n",
    "    Returns:\n",
    "        torch.utils.data.DataLoader: A DataLoader for image patches with labels.\n",
    "    \"\"\"\n",
    "\n",
    "    assert len(patches) % batch_size == 0, \"Number of patches must be divisible by batch size\"\n",
    "    assert len(labels) == len(patches) // batch_size, \"Number of labels must match number of patches\"\n",
    "\n",
    "    class PatchDatasetWithLabels(Dataset):\n",
    "        def __init__(self, patches, labels):\n",
    "            self.patches = patches\n",
    "            self.labels = labels\n",
    "\n",
    "        def __getitem__(self, index):\n",
    "            start_idx = index * batch_size\n",
    "            end_idx = start_idx + batch_size\n",
    "            patches_batch = self.patches[start_idx:end_idx]\n",
    "            label = self.labels[index]\n",
    "            return torch.stack(patches_batch), label\n",
    "\n",
    "        def __len__(self):\n",
    "            return len(self.labels)\n",
    "\n",
    "    dataset = PatchDatasetWithLabels(patches, labels)\n",
    "    dataloader = DataLoader(dataset, batch_size=1, shuffle=False)\n",
    "    return dataloader\n"
   ]
  },
  {
   "cell_type": "code",
   "execution_count": 10,
   "metadata": {},
   "outputs": [
    {
     "name": "stdout",
     "output_type": "stream",
     "text": [
      "Created patch DataLoader with 10 batches.\n"
     ]
    }
   ],
   "source": [
    "# Create patch DataLoader\n",
    "patch_loader = create_patch_dataloader_with_labels(patch_list, labels_list)\n",
    "print(f\"Created patch DataLoader with {len(patch_loader)} batches.\")\n"
   ]
  },
  {
   "cell_type": "code",
   "execution_count": 11,
   "metadata": {},
   "outputs": [
    {
     "name": "stdout",
     "output_type": "stream",
     "text": [
      "y====torch.Size([1, 49, 3, 32, 32])\n",
      "y====torch.Size([1, 49, 3, 32, 32])\n",
      "y====torch.Size([1, 49, 3, 32, 32])\n",
      "y====torch.Size([1, 49, 3, 32, 32])\n",
      "y====torch.Size([1, 49, 3, 32, 32])\n",
      "y====torch.Size([1, 49, 3, 32, 32])\n",
      "y====torch.Size([1, 49, 3, 32, 32])\n",
      "y====torch.Size([1, 49, 3, 32, 32])\n",
      "y====torch.Size([1, 49, 3, 32, 32])\n",
      "y====torch.Size([1, 49, 3, 32, 32])\n"
     ]
    }
   ],
   "source": [
    "for (X, y) in patch_loader:\n",
    "    print(f\"y===={X.shape}\")\n",
    "    break\n"
   ]
  },
  {
   "cell_type": "code",
   "execution_count": 12,
   "metadata": {},
   "outputs": [],
   "source": [
    "# # Define the PDN model\n",
    "# class PDN(nn.Module):\n",
    "#     def __init__(self):\n",
    "#         super(PDN, self).__init__()\n",
    "\n",
    "#         # Encoder layers\n",
    "#         self.encoder = nn.Sequential(\n",
    "#             nn.Conv2d(3, 32, kernel_size=3, stride=1, padding=1),  # Input channels: 3 (RGB), output: 32 channels\n",
    "#             nn.BatchNorm2d(32),\n",
    "#             nn.ReLU(inplace=True),\n",
    "\n",
    "#             nn.Conv2d(32, 64, kernel_size=3, stride=1, padding=1),\n",
    "#             nn.BatchNorm2d(64),\n",
    "#             nn.ReLU(inplace=True),\n",
    "#             nn.MaxPool2d(2, 2),\n",
    "\n",
    "#             nn.Conv2d(64, 128, kernel_size=3, stride=1, padding=1),\n",
    "#             nn.BatchNorm2d(128),\n",
    "#             nn.ReLU(inplace=True),\n",
    "#             nn.MaxPool2d(2, 2),\n",
    "\n",
    "#             nn.Conv2d(128, 256, kernel_size=3, stride=1, padding=1),\n",
    "#             nn.BatchNorm2d(256),\n",
    "#             nn.ReLU(inplace=True),\n",
    "#             nn.MaxPool2d(2, 2),\n",
    "#         )\n",
    "\n",
    "#         # Decoder layers (use transposed convolutions for upsampling)\n",
    "#         self.decoder = nn.Sequential(\n",
    "#             nn.ConvTranspose2d(256, 128, kernel_size=4, stride=2, padding=1),\n",
    "#             nn.BatchNorm2d(128),\n",
    "#             nn.ReLU(inplace=True),\n",
    "\n",
    "#             nn.ConvTranspose2d(128, 64, kernel_size=4, stride=2, padding=1),\n",
    "#             nn.BatchNorm2d(64),\n",
    "#             nn.ReLU(inplace=True),\n",
    "\n",
    "#             nn.ConvTranspose2d(64, 32, kernel_size=4, stride=2, padding=1),\n",
    "#             nn.BatchNorm2d(32),\n",
    "#             nn.ReLU(inplace=True),\n",
    "\n",
    "#             nn.ConvTranspose2d(32, 3, kernel_size=4, stride=2, padding=1),\n",
    "#             nn.Sigmoid()  # Output layer between 0 and 1 for image reconstruction\n",
    "#         )\n",
    "\n",
    "#     def forward(self, x):\n",
    "#         encoded = self.encoder(x)\n",
    "#         decoded = self.decoder(encoded)\n",
    "#         return decoded\n"
   ]
  },
  {
   "cell_type": "code",
   "execution_count": 13,
   "metadata": {},
   "outputs": [],
   "source": [
    "# Define the PDN (Patch Discriminator Network)\n",
    "class PDN(nn.Module):\n",
    "    def __init__(self):\n",
    "        super(PDN, self).__init__()\n",
    "        \n",
    "        # Encoder\n",
    "        self.encoder = nn.Sequential(\n",
    "            nn.Conv2d(3, 32, kernel_size=3, stride=1, padding=1),\n",
    "            nn.BatchNorm2d(32),\n",
    "            nn.ReLU(inplace=True),\n",
    "            nn.MaxPool2d(2, 2),\n",
    "            \n",
    "            nn.Conv2d(32, 64, kernel_size=3, stride=1, padding=1),\n",
    "            nn.BatchNorm2d(64),\n",
    "            nn.ReLU(inplace=True),\n",
    "            nn.MaxPool2d(2, 2),\n",
    "            \n",
    "            nn.Conv2d(64, 128, kernel_size=3, stride=1, padding=1),\n",
    "            nn.BatchNorm2d(128),\n",
    "            nn.ReLU(inplace=True),\n",
    "            nn.MaxPool2d(2, 2),\n",
    "            \n",
    "            nn.Conv2d(128, 256, kernel_size=3, stride=1, padding=1),\n",
    "            nn.BatchNorm2d(256),\n",
    "            nn.ReLU(inplace=True),\n",
    "            nn.MaxPool2d(2, 2)\n",
    "        )\n",
    "        \n",
    "        # Decoder\n",
    "        self.decoder = nn.Sequential(\n",
    "            nn.ConvTranspose2d(256, 128, kernel_size=4, stride=2, padding=1),\n",
    "            nn.BatchNorm2d(128),\n",
    "            nn.ReLU(inplace=True),\n",
    "            \n",
    "            nn.ConvTranspose2d(128, 64, kernel_size=4, stride=2, padding=1),\n",
    "            nn.BatchNorm2d(64),\n",
    "            nn.ReLU(inplace=True),\n",
    "            \n",
    "            nn.ConvTranspose2d(64, 32, kernel_size=4, stride=2, padding=1),\n",
    "            nn.BatchNorm2d(32),\n",
    "            nn.ReLU(inplace=True),\n",
    "            \n",
    "            nn.ConvTranspose2d(32, 3, kernel_size=4, stride=2, padding=1),\n",
    "            nn.Sigmoid()\n",
    "        )\n",
    "        \n",
    "    def forward(self, x):\n",
    "        encoded = self.encoder(x)\n",
    "        decoded = self.decoder(encoded)\n",
    "        return decoded\n"
   ]
  },
  {
   "cell_type": "code",
   "execution_count": 14,
   "metadata": {},
   "outputs": [],
   "source": [
    "# Feature Extractor using ResNet-18\n",
    "class FeatureExtractor(nn.Module):\n",
    "    def __init__(self):\n",
    "        super(FeatureExtractor, self).__init__()\n",
    "        resnet = models.resnet18(pretrained=True)\n",
    "        self.features = nn.Sequential(*list(resnet.children())[:-1])\n",
    "        \n",
    "    def forward(self, x):\n",
    "        return self.features(x).squeeze()\n"
   ]
  },
  {
   "cell_type": "code",
   "execution_count": 15,
   "metadata": {},
   "outputs": [],
   "source": [
    "# # Set random seed\n",
    "# torch.manual_seed(42)\n",
    "\n",
    "# # Initialize model, optimizer, and loss function\n",
    "# PDN_model = PDN().to(device)\n",
    "\n",
    "# feature_extrection_epoches = 20\n",
    "# PDN_network_epoches = 10\n",
    "\n",
    "# optimizer = optim.Adam(PDN_model.parameters(), lr=0.001)\n",
    "# scheduler = ExponentialLR(optimizer, gamma=0.97)\n",
    "\n",
    "# loss_fn = nn.MSELoss()  # Use MSELoss for reconstruction tasks\n"
   ]
  },
  {
   "cell_type": "code",
   "execution_count": 16,
   "metadata": {},
   "outputs": [
    {
     "name": "stderr",
     "output_type": "stream",
     "text": [
      "C:\\Users\\ASUS\\AppData\\Local\\Packages\\PythonSoftwareFoundation.Python.3.11_qbz5n2kfra8p0\\LocalCache\\local-packages\\Python311\\site-packages\\torchvision\\models\\_utils.py:208: UserWarning: The parameter 'pretrained' is deprecated since 0.13 and may be removed in the future, please use 'weights' instead.\n",
      "  warnings.warn(\n",
      "C:\\Users\\ASUS\\AppData\\Local\\Packages\\PythonSoftwareFoundation.Python.3.11_qbz5n2kfra8p0\\LocalCache\\local-packages\\Python311\\site-packages\\torchvision\\models\\_utils.py:223: UserWarning: Arguments other than a weight enum or `None` for 'weights' are deprecated since 0.13 and may be removed in the future. The current behavior is equivalent to passing `weights=ResNet18_Weights.IMAGENET1K_V1`. You can also use `weights=ResNet18_Weights.DEFAULT` to get the most up-to-date weights.\n",
      "  warnings.warn(msg)\n"
     ]
    }
   ],
   "source": [
    "# Training Parameters\n",
    "learning_rate = 0.001\n",
    "feature_extrection_epoches = 20\n",
    "PDN_network_epoches = 10\n",
    "\n",
    "# Initialize models\n",
    "feature_extractor = FeatureExtractor().to(device)\n",
    "PDN_model = PDN().to(device)\n",
    "\n",
    "# Define optimizer and loss function\n",
    "optimizer = optim.Adam(list(feature_extractor.parameters()) + list(PDN_model.parameters()), lr=learning_rate)\n",
    "scheduler = optim.lr_scheduler.ExponentialLR(optimizer, gamma=0.97)\n",
    "loss_fn = nn.MSELoss()"
   ]
  },
  {
   "cell_type": "code",
   "execution_count": 17,
   "metadata": {},
   "outputs": [],
   "source": [
    "# # Define train step function\n",
    "# def train_step(model: torch.nn.Module,\n",
    "#                data_loader: torch.utils.data.DataLoader,\n",
    "#                loss_fn: torch.nn.Module,\n",
    "#                optimizer: torch.optim.Optimizer,\n",
    "#                device: torch.device = device):\n",
    "#     train_loss = 0\n",
    "#     model.train()\n",
    "#     for batch, (X, _) in enumerate(data_loader):\n",
    "#         X = X.squeeze(0)  # Remove batch dimension\n",
    "#         X = X.to(device)\n",
    "\n",
    "#         # Forward pass\n",
    "#         y_pred = model(X)\n",
    "\n",
    "#         # Calculate loss\n",
    "#         if y_pred.shape != X.shape:\n",
    "#             y_pred = nn.functional.interpolate(y_pred, size=(X.shape[2], X.shape[3]), mode='bilinear', align_corners=False)\n",
    "\n",
    "#         loss = loss_fn(y_pred, X)\n",
    "#         train_loss += loss.item()\n",
    "\n",
    "#         # Optimizer zero grad\n",
    "#         optimizer.zero_grad()\n",
    "\n",
    "#         # Loss backward\n",
    "#         loss.backward()\n",
    "\n",
    "#         # Optimizer step\n",
    "#         optimizer.step()\n",
    "\n",
    "#     train_loss /= len(data_loader)\n",
    "#     print(f\"Train loss: {train_loss:.5f}\")\n"
   ]
  },
  {
   "cell_type": "code",
   "execution_count": 18,
   "metadata": {},
   "outputs": [],
   "source": [
    "def train_model(feature_extractor, pdn_model, train_loader, optimizer, loss_fn, device):\n",
    "    feature_extractor.train()\n",
    "    pdn_model.train()\n",
    "    \n",
    "    for epoch in range(feature_extrection_epoches):\n",
    "        total_loss = 0.0\n",
    "        \n",
    "        for images, _ in tqdm(train_loader):\n",
    "            images = images.to(device).squeeze()\n",
    "            \n",
    "            # Feature extraction\n",
    "            features = feature_extractor(images)\n",
    "            \n",
    "            # PDN forward pass\n",
    "            reconstructed_images = pdn_model(images)\n",
    "            \n",
    "            # Compute loss\n",
    "            loss = loss_fn(reconstructed_images, images)\n",
    "            total_loss += loss.item()\n",
    "            \n",
    "            # Backpropagation\n",
    "            optimizer.zero_grad()\n",
    "            loss.backward()\n",
    "            optimizer.step()\n",
    "        \n",
    "        scheduler.step()\n",
    "        print(f\"Epoch [{epoch + 1}/{feature_extrection_epoches}], Loss: {total_loss / len(train_loader):.4f}\")\n"
   ]
  },
  {
   "cell_type": "code",
   "execution_count": 19,
   "metadata": {},
   "outputs": [],
   "source": [
    "# # Training loop\n",
    "# train_time_start_on_cpu = timer()\n",
    "\n",
    "# for epoch in tqdm(range(feature_extrection_epoches)):\n",
    "#     print(f\"Epoch number: {epoch+1}\")\n",
    "#     train_step(model=PDN_model, data_loader=patch_loader, optimizer=optimizer, loss_fn=loss_fn)\n"
   ]
  },
  {
   "cell_type": "code",
   "execution_count": 20,
   "metadata": {},
   "outputs": [
    {
     "name": "stderr",
     "output_type": "stream",
     "text": [
      "100%|██████████| 10/10 [00:01<00:00,  7.89it/s]\n"
     ]
    },
    {
     "name": "stdout",
     "output_type": "stream",
     "text": [
      "Epoch [1/20], Loss: 0.0861\n"
     ]
    },
    {
     "name": "stderr",
     "output_type": "stream",
     "text": [
      "100%|██████████| 10/10 [00:01<00:00,  8.54it/s]\n"
     ]
    },
    {
     "name": "stdout",
     "output_type": "stream",
     "text": [
      "Epoch [2/20], Loss: 0.0686\n"
     ]
    },
    {
     "name": "stderr",
     "output_type": "stream",
     "text": [
      "100%|██████████| 10/10 [00:01<00:00,  9.50it/s]\n"
     ]
    },
    {
     "name": "stdout",
     "output_type": "stream",
     "text": [
      "Epoch [3/20], Loss: 0.0557\n"
     ]
    },
    {
     "name": "stderr",
     "output_type": "stream",
     "text": [
      "100%|██████████| 10/10 [00:00<00:00, 10.17it/s]\n"
     ]
    },
    {
     "name": "stdout",
     "output_type": "stream",
     "text": [
      "Epoch [4/20], Loss: 0.0490\n"
     ]
    },
    {
     "name": "stderr",
     "output_type": "stream",
     "text": [
      "100%|██████████| 10/10 [00:00<00:00, 10.21it/s]\n"
     ]
    },
    {
     "name": "stdout",
     "output_type": "stream",
     "text": [
      "Epoch [5/20], Loss: 0.0451\n"
     ]
    },
    {
     "name": "stderr",
     "output_type": "stream",
     "text": [
      "100%|██████████| 10/10 [00:00<00:00, 10.14it/s]\n"
     ]
    },
    {
     "name": "stdout",
     "output_type": "stream",
     "text": [
      "Epoch [6/20], Loss: 0.0422\n"
     ]
    },
    {
     "name": "stderr",
     "output_type": "stream",
     "text": [
      "100%|██████████| 10/10 [00:00<00:00, 10.26it/s]\n"
     ]
    },
    {
     "name": "stdout",
     "output_type": "stream",
     "text": [
      "Epoch [7/20], Loss: 0.0429\n"
     ]
    },
    {
     "name": "stderr",
     "output_type": "stream",
     "text": [
      "100%|██████████| 10/10 [00:00<00:00, 10.21it/s]\n"
     ]
    },
    {
     "name": "stdout",
     "output_type": "stream",
     "text": [
      "Epoch [8/20], Loss: 0.0429\n"
     ]
    },
    {
     "name": "stderr",
     "output_type": "stream",
     "text": [
      "100%|██████████| 10/10 [00:00<00:00, 10.23it/s]\n"
     ]
    },
    {
     "name": "stdout",
     "output_type": "stream",
     "text": [
      "Epoch [9/20], Loss: 0.0410\n"
     ]
    },
    {
     "name": "stderr",
     "output_type": "stream",
     "text": [
      "100%|██████████| 10/10 [00:00<00:00, 10.26it/s]\n"
     ]
    },
    {
     "name": "stdout",
     "output_type": "stream",
     "text": [
      "Epoch [10/20], Loss: 0.0393\n"
     ]
    },
    {
     "name": "stderr",
     "output_type": "stream",
     "text": [
      "100%|██████████| 10/10 [00:00<00:00, 10.17it/s]\n"
     ]
    },
    {
     "name": "stdout",
     "output_type": "stream",
     "text": [
      "Epoch [11/20], Loss: 0.0379\n"
     ]
    },
    {
     "name": "stderr",
     "output_type": "stream",
     "text": [
      "100%|██████████| 10/10 [00:00<00:00, 10.10it/s]\n"
     ]
    },
    {
     "name": "stdout",
     "output_type": "stream",
     "text": [
      "Epoch [12/20], Loss: 0.0359\n"
     ]
    },
    {
     "name": "stderr",
     "output_type": "stream",
     "text": [
      "100%|██████████| 10/10 [00:01<00:00,  9.90it/s]\n"
     ]
    },
    {
     "name": "stdout",
     "output_type": "stream",
     "text": [
      "Epoch [13/20], Loss: 0.0334\n"
     ]
    },
    {
     "name": "stderr",
     "output_type": "stream",
     "text": [
      "100%|██████████| 10/10 [00:00<00:00, 10.25it/s]\n"
     ]
    },
    {
     "name": "stdout",
     "output_type": "stream",
     "text": [
      "Epoch [14/20], Loss: 0.0320\n"
     ]
    },
    {
     "name": "stderr",
     "output_type": "stream",
     "text": [
      "100%|██████████| 10/10 [00:01<00:00,  9.42it/s]\n"
     ]
    },
    {
     "name": "stdout",
     "output_type": "stream",
     "text": [
      "Epoch [15/20], Loss: 0.0308\n"
     ]
    },
    {
     "name": "stderr",
     "output_type": "stream",
     "text": [
      "100%|██████████| 10/10 [00:01<00:00,  9.32it/s]\n"
     ]
    },
    {
     "name": "stdout",
     "output_type": "stream",
     "text": [
      "Epoch [16/20], Loss: 0.0306\n"
     ]
    },
    {
     "name": "stderr",
     "output_type": "stream",
     "text": [
      "100%|██████████| 10/10 [00:01<00:00,  9.18it/s]\n"
     ]
    },
    {
     "name": "stdout",
     "output_type": "stream",
     "text": [
      "Epoch [17/20], Loss: 0.0289\n"
     ]
    },
    {
     "name": "stderr",
     "output_type": "stream",
     "text": [
      "100%|██████████| 10/10 [00:01<00:00,  8.64it/s]\n"
     ]
    },
    {
     "name": "stdout",
     "output_type": "stream",
     "text": [
      "Epoch [18/20], Loss: 0.0277\n"
     ]
    },
    {
     "name": "stderr",
     "output_type": "stream",
     "text": [
      "100%|██████████| 10/10 [00:01<00:00,  9.75it/s]\n"
     ]
    },
    {
     "name": "stdout",
     "output_type": "stream",
     "text": [
      "Epoch [19/20], Loss: 0.0268\n"
     ]
    },
    {
     "name": "stderr",
     "output_type": "stream",
     "text": [
      "100%|██████████| 10/10 [00:01<00:00,  9.83it/s]"
     ]
    },
    {
     "name": "stdout",
     "output_type": "stream",
     "text": [
      "Epoch [20/20], Loss: 0.0257\n"
     ]
    },
    {
     "name": "stderr",
     "output_type": "stream",
     "text": [
      "\n"
     ]
    }
   ],
   "source": [
    "train_model(feature_extractor, PDN_model, patch_loader, optimizer, loss_fn, device)"
   ]
  }
 ],
 "metadata": {
  "kernelspec": {
   "display_name": "Python 3",
   "language": "python",
   "name": "python3"
  },
  "language_info": {
   "codemirror_mode": {
    "name": "ipython",
    "version": 3
   },
   "file_extension": ".py",
   "mimetype": "text/x-python",
   "name": "python",
   "nbconvert_exporter": "python",
   "pygments_lexer": "ipython3",
   "version": "3.11.9"
  }
 },
 "nbformat": 4,
 "nbformat_minor": 2
}
