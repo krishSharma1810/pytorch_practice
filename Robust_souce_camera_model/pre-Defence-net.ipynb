{
 "cells": [
  {
   "cell_type": "code",
   "execution_count": 1,
   "metadata": {},
   "outputs": [],
   "source": [
    "import torch \n",
    "import torch.nn as nn\n"
   ]
  },
  {
   "cell_type": "code",
   "execution_count": 2,
   "metadata": {},
   "outputs": [],
   "source": [
    "\n",
    "class PDN(nn.Module):\n",
    "    def __init__(self, in_channels, hidden_dim):\n",
    "        super(PDN, self).__init__()\n",
    "        # Define your network architecture here\n",
    "        # Example: Convolutional layers for feature transformation\n",
    "        self.conv1 = nn.Conv2d(in_channels, hidden_dim, kernel_size=3, padding=1)\n",
    "        self.relu = nn.ReLU(inplace=True)\n",
    "        # ... add more layers as needed\n",
    "        self.fc = nn.Linear(hidden_dim, in_channels)  # Final layer for output dimension matching input\n",
    "\n",
    "    def forward(self, x):\n",
    "        # Define the forward pass for the PDN\n",
    "        x = self.conv1(x)\n",
    "        x = self.relu(x)\n",
    "        # ... perform operations on x through your network architecture\n",
    "        return self.fc(x)\n"
   ]
  }
 ],
 "metadata": {
  "kernelspec": {
   "display_name": "Python 3",
   "language": "python",
   "name": "python3"
  },
  "language_info": {
   "codemirror_mode": {
    "name": "ipython",
    "version": 3
   },
   "file_extension": ".py",
   "mimetype": "text/x-python",
   "name": "python",
   "nbconvert_exporter": "python",
   "pygments_lexer": "ipython3",
   "version": "3.11.9"
  }
 },
 "nbformat": 4,
 "nbformat_minor": 2
}
