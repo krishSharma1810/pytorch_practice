{
 "cells": [
  {
   "cell_type": "code",
   "execution_count": 24,
   "metadata": {},
   "outputs": [],
   "source": [
    "import cv2\n",
    "import torch\n",
    "from torchvision import transforms\n",
    "\n",
    "\n",
    "from torchvision.transforms import ToTensor"
   ]
  },
  {
   "cell_type": "code",
   "execution_count": 19,
   "metadata": {},
   "outputs": [],
   "source": [
    "def box_blur_opencv(file, r=20):\n",
    "  img = cv2.imread(file)\n",
    "  # Apply box blur with the specified radius\n",
    "  blurred_img = cv2.blur(img, (2 * r + 1, 2 * r + 1))\n",
    "  return blurred_img\n"
   ]
  },
  {
   "cell_type": "code",
   "execution_count": 14,
   "metadata": {},
   "outputs": [],
   "source": [
    "# def blur_from_torch(file):\n",
    "#     img=cv2.imread(file)\n",
    "#     box_blured_img=torchvision.transforms.GaussianBlur(3,sigma=(0.1,2.0))\n",
    "#     return box_blured_img"
   ]
  },
  {
   "cell_type": "code",
   "execution_count": 29,
   "metadata": {},
   "outputs": [],
   "source": [
    "def blur_from_torch(file):\n",
    "\n",
    "  img = cv2.imread(file)\n",
    "  if img is None:\n",
    "    raise ValueError(f\"Could not read image file: {file}\")\n",
    "  img_tensor = transforms.ToTensor()(img)  # Assuming RGB image\n",
    "\n",
    "  box_blured_img = transforms.GaussianBlur(kernel_size=3, sigma=(10.0,15.0))(img_tensor)\n",
    "\n",
    "  # Convert the blurred tensor back to a NumPy array (BCHW format)\n",
    "  blurred_img = box_blured_img.squeeze(0).permute(1, 2, 0).cpu().numpy()  # Assuming single-channel output\n",
    "\n",
    "  return blurred_img\n"
   ]
  },
  {
   "cell_type": "code",
   "execution_count": 31,
   "metadata": {},
   "outputs": [],
   "source": [
    "def gaussian_blur_opencv(file, sigma=1.0):\n",
    "  \"\"\"\n",
    "  Applies a Gaussian blur to an image using OpenCV.\n",
    "\n",
    "  Args:\n",
    "      file (str): Path to the image file.\n",
    "      sigma (float, optional): Standard deviation of the Gaussian filter. Defaults to 1.0.\n",
    "\n",
    "  Returns:\n",
    "      numpy.ndarray: The blurred image as a NumPy array.\n",
    "\n",
    "  Raises:\n",
    "      ValueError: If the image cannot be read using cv2.imread.\n",
    "  \"\"\"\n",
    "\n",
    "  # Read the image using OpenCV\n",
    "  img = cv2.imread(file)\n",
    "\n",
    "  # Check if image reading was successful\n",
    "  if img is None:\n",
    "    raise ValueError(f\"Could not read image file: {file}\")\n",
    "\n",
    "  # Apply Gaussian blur with the specified sigma\n",
    "  blurred_img = cv2.GaussianBlur(img, (5, 5), sigma)\n",
    "\n",
    "  return blurred_img\n"
   ]
  },
  {
   "cell_type": "code",
   "execution_count": 33,
   "metadata": {},
   "outputs": [],
   "source": [
    "if __name__ == \"__main__\":\n",
    "    file=\"D05_img_telegram_0139.jpg\"\n",
    "    # img1=cv2.imread(file)\n",
    "    # cv2.imshow(\"real\", img1)\n",
    "    # cv2.waitKey(0)  # Wait for a key press to close the window\n",
    "    # cv2.destroyAllWindows()\n",
    "    # img=box_blur_opencv(file)\n",
    "    # cv2.imshow(\"Blurred Image\", img)\n",
    "    # cv2.waitKey(0)  # Wait for a key press to close the window\n",
    "    cv2.destroyAllWindows()\n",
    "    img2=blur_from_torch(file)\n",
    "    cv2.imshow(\"Blurred Image 2\", img2)\n",
    "    cv2.waitKey(0)  # Wait for a key press to close the window\n",
    "    cv2.destroyAllWindows()\n",
    "    img3=gaussian_blur_opencv(file)\n",
    "    cv2.imshow(\"Blurred Image 2\", img3)\n",
    "    cv2.waitKey(0)  # Wait for a key press to close the window\n",
    "    cv2.destroyAllWindows()\n"
   ]
  },
  {
   "cell_type": "code",
   "execution_count": null,
   "metadata": {},
   "outputs": [],
   "source": []
  }
 ],
 "metadata": {
  "kernelspec": {
   "display_name": "Python 3",
   "language": "python",
   "name": "python3"
  },
  "language_info": {
   "codemirror_mode": {
    "name": "ipython",
    "version": 3
   },
   "file_extension": ".py",
   "mimetype": "text/x-python",
   "name": "python",
   "nbconvert_exporter": "python",
   "pygments_lexer": "ipython3",
   "version": "3.11.9"
  }
 },
 "nbformat": 4,
 "nbformat_minor": 2
}
