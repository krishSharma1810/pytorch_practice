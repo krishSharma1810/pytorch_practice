{
 "cells": [
  {
   "cell_type": "code",
   "execution_count": 1,
   "metadata": {},
   "outputs": [],
   "source": [
    "import PIL\n",
    "from PIL import Image"
   ]
  },
  {
   "cell_type": "code",
   "execution_count": 2,
   "metadata": {},
   "outputs": [
    {
     "name": "stdout",
     "output_type": "stream",
     "text": [
      "Using device: cpu\n"
     ]
    }
   ],
   "source": [
    "import torch\n",
    "\n",
    "device = torch.device(\"cuda:0\" if torch.cuda.is_available() else \"cpu\")\n",
    "print(f\"Using device: {device}\")"
   ]
  },
  {
   "cell_type": "code",
   "execution_count": 3,
   "metadata": {},
   "outputs": [],
   "source": [
    "import torch\n",
    "from PIL import Image\n",
    "import numpy as np\n",
    "\n",
    "def box_blur_gpu(file, r=1):\n",
    "  # Open image and convert to RGB\n",
    "  img = Image.open(file).convert('RGB')\n",
    "  width, height = img.size\n",
    "\n",
    "  # Convert image to a NumPy array (CHW format)\n",
    "  img_arr = np.array(img).astype(np.float32)\n",
    "  img_arr = img_arr.transpose((2, 0, 1))  # Channels first (CHW)\n",
    "\n",
    "  # Convert NumPy array to PyTorch tensor and move to GPU if available\n",
    "  img_tensor = torch.from_numpy(img_arr).unsqueeze(0)  # Add batch dimension\n",
    "  device = torch.device(\"cuda:0\" if torch.cuda.is_available() else \"cpu\")\n",
    "  img_tensor = img_tensor.to(device)\n",
    "\n",
    "  # Apply box blur using a kernel on the GPU (implementation details omitted)\n",
    "  blurred_tensor = box_blur_kernel(img_tensor, r, device)  # Replace with your GPU kernel implementation\n",
    "\n",
    "  # Convert blurred tensor back to NumPy array and reshape to image format (HWC)\n",
    "  blurred_arr = blurred_tensor.squeeze(0).cpu().numpy().transpose((1, 2, 0))\n",
    "\n",
    "  # Convert blurred NumPy array back to PIL Image\n",
    "  blurred_img = Image.fromarray(blurred_arr.astype(np.uint8))\n",
    "\n",
    "  return blurred_img\n",
    "\n",
    "# This part requires implementation (specific to your chosen deep learning framework)\n",
    "def box_blur_kernel(img_tensor, r, device):\n",
    "  # Implement the box blur logic using PyTorch operations on the GPU (e.g., convolutions)\n",
    "  # This function should take the image tensor, blur radius, and device as input\n",
    "  # and return the blurred tensor on the specified device.\n",
    "  # ... (implementation details for box blur kernel using PyTorch)\n",
    "  raise NotImplementedError(\"Please implement box_blur_kernel using PyTorch operations on GPU\")\n"
   ]
  },
  {
   "cell_type": "code",
   "execution_count": 5,
   "metadata": {},
   "outputs": [
    {
     "ename": "NotImplementedError",
     "evalue": "Please implement box_blur_kernel using PyTorch operations on GPU",
     "output_type": "error",
     "traceback": [
      "\u001b[1;31m---------------------------------------------------------------------------\u001b[0m",
      "\u001b[1;31mNotImplementedError\u001b[0m                       Traceback (most recent call last)",
      "Cell \u001b[1;32mIn[5], line 5\u001b[0m\n\u001b[0;32m      3\u001b[0m img1\u001b[38;5;241m=\u001b[39mImage\u001b[38;5;241m.\u001b[39mopen(file)\n\u001b[0;32m      4\u001b[0m img1\u001b[38;5;241m.\u001b[39mshow()\n\u001b[1;32m----> 5\u001b[0m img\u001b[38;5;241m=\u001b[39m\u001b[43mbox_blur_gpu\u001b[49m\u001b[43m(\u001b[49m\u001b[43mfile\u001b[49m\u001b[43m)\u001b[49m\n\u001b[0;32m      6\u001b[0m img\u001b[38;5;241m.\u001b[39mshow()\n",
      "Cell \u001b[1;32mIn[3], line 20\u001b[0m, in \u001b[0;36mbox_blur_gpu\u001b[1;34m(file, r)\u001b[0m\n\u001b[0;32m     17\u001b[0m img_tensor \u001b[38;5;241m=\u001b[39m img_tensor\u001b[38;5;241m.\u001b[39mto(device)\n\u001b[0;32m     19\u001b[0m \u001b[38;5;66;03m# Apply box blur using a kernel on the GPU (implementation details omitted)\u001b[39;00m\n\u001b[1;32m---> 20\u001b[0m blurred_tensor \u001b[38;5;241m=\u001b[39m \u001b[43mbox_blur_kernel\u001b[49m\u001b[43m(\u001b[49m\u001b[43mimg_tensor\u001b[49m\u001b[43m,\u001b[49m\u001b[43m \u001b[49m\u001b[43mr\u001b[49m\u001b[43m,\u001b[49m\u001b[43m \u001b[49m\u001b[43mdevice\u001b[49m\u001b[43m)\u001b[49m  \u001b[38;5;66;03m# Replace with your GPU kernel implementation\u001b[39;00m\n\u001b[0;32m     22\u001b[0m \u001b[38;5;66;03m# Convert blurred tensor back to NumPy array and reshape to image format (HWC)\u001b[39;00m\n\u001b[0;32m     23\u001b[0m blurred_arr \u001b[38;5;241m=\u001b[39m blurred_tensor\u001b[38;5;241m.\u001b[39msqueeze(\u001b[38;5;241m0\u001b[39m)\u001b[38;5;241m.\u001b[39mcpu()\u001b[38;5;241m.\u001b[39mnumpy()\u001b[38;5;241m.\u001b[39mtranspose((\u001b[38;5;241m1\u001b[39m, \u001b[38;5;241m2\u001b[39m, \u001b[38;5;241m0\u001b[39m))\n",
      "Cell \u001b[1;32mIn[3], line 36\u001b[0m, in \u001b[0;36mbox_blur_kernel\u001b[1;34m(img_tensor, r, device)\u001b[0m\n\u001b[0;32m     31\u001b[0m \u001b[38;5;28;01mdef\u001b[39;00m \u001b[38;5;21mbox_blur_kernel\u001b[39m(img_tensor, r, device):\n\u001b[0;32m     32\u001b[0m   \u001b[38;5;66;03m# Implement the box blur logic using PyTorch operations on the GPU (e.g., convolutions)\u001b[39;00m\n\u001b[0;32m     33\u001b[0m   \u001b[38;5;66;03m# This function should take the image tensor, blur radius, and device as input\u001b[39;00m\n\u001b[0;32m     34\u001b[0m   \u001b[38;5;66;03m# and return the blurred tensor on the specified device.\u001b[39;00m\n\u001b[0;32m     35\u001b[0m   \u001b[38;5;66;03m# ... (implementation details for box blur kernel using PyTorch)\u001b[39;00m\n\u001b[1;32m---> 36\u001b[0m   \u001b[38;5;28;01mraise\u001b[39;00m \u001b[38;5;167;01mNotImplementedError\u001b[39;00m(\u001b[38;5;124m\"\u001b[39m\u001b[38;5;124mPlease implement box_blur_kernel using PyTorch operations on GPU\u001b[39m\u001b[38;5;124m\"\u001b[39m)\n",
      "\u001b[1;31mNotImplementedError\u001b[0m: Please implement box_blur_kernel using PyTorch operations on GPU"
     ]
    }
   ],
   "source": [
    "if __name__ == \"__main__\":\n",
    "    file=\"D05_img_telegram_0139.jpg\"\n",
    "    img1=Image.open(file)\n",
    "    img1.show()\n",
    "    img=box_blur_gpu(file)\n",
    "    img.show()"
   ]
  },
  {
   "cell_type": "code",
   "execution_count": null,
   "metadata": {},
   "outputs": [],
   "source": []
  }
 ],
 "metadata": {
  "kernelspec": {
   "display_name": "Python 3",
   "language": "python",
   "name": "python3"
  },
  "language_info": {
   "codemirror_mode": {
    "name": "ipython",
    "version": 3
   },
   "file_extension": ".py",
   "mimetype": "text/x-python",
   "name": "python",
   "nbconvert_exporter": "python",
   "pygments_lexer": "ipython3",
   "version": "3.11.9"
  }
 },
 "nbformat": 4,
 "nbformat_minor": 2
}
